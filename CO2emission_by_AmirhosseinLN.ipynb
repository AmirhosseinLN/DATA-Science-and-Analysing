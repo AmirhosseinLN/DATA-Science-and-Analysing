{
 "cells": [
  {
   "cell_type": "code",
   "execution_count": 91,
   "id": "74eae36b-77e0-4843-82c8-566bd72aedfe",
   "metadata": {
    "tags": []
   },
   "outputs": [],
   "source": [
    "import pandas as pd\n",
    "import numpy as np\n",
    "import matplotlib.pyplot as plt\n",
    "import seaborn as sns\n",
    "import warnings\n",
    "warnings.filterwarnings('ignore')"
   ]
  },
  {
   "cell_type": "code",
   "execution_count": 2,
   "id": "54257d47-a747-47f4-91d5-54e7cfcb48f8",
   "metadata": {
    "tags": []
   },
   "outputs": [
    {
     "data": {
      "text/html": [
       "<div>\n",
       "<style scoped>\n",
       "    .dataframe tbody tr th:only-of-type {\n",
       "        vertical-align: middle;\n",
       "    }\n",
       "\n",
       "    .dataframe tbody tr th {\n",
       "        vertical-align: top;\n",
       "    }\n",
       "\n",
       "    .dataframe thead th {\n",
       "        text-align: right;\n",
       "    }\n",
       "</style>\n",
       "<table border=\"1\" class=\"dataframe\">\n",
       "  <thead>\n",
       "    <tr style=\"text-align: right;\">\n",
       "      <th></th>\n",
       "      <th>country</th>\n",
       "      <th>year</th>\n",
       "      <th>iso_code</th>\n",
       "      <th>population</th>\n",
       "      <th>gdp</th>\n",
       "      <th>cement_co2</th>\n",
       "      <th>cement_co2_per_capita</th>\n",
       "      <th>co2</th>\n",
       "      <th>co2_growth_abs</th>\n",
       "      <th>co2_growth_prct</th>\n",
       "      <th>...</th>\n",
       "      <th>share_global_other_co2</th>\n",
       "      <th>share_of_temperature_change_from_ghg</th>\n",
       "      <th>temperature_change_from_ch4</th>\n",
       "      <th>temperature_change_from_co2</th>\n",
       "      <th>temperature_change_from_ghg</th>\n",
       "      <th>temperature_change_from_n2o</th>\n",
       "      <th>total_ghg</th>\n",
       "      <th>total_ghg_excluding_lucf</th>\n",
       "      <th>trade_co2</th>\n",
       "      <th>trade_co2_share</th>\n",
       "    </tr>\n",
       "  </thead>\n",
       "  <tbody>\n",
       "    <tr>\n",
       "      <th>0</th>\n",
       "      <td>Afghanistan</td>\n",
       "      <td>1850</td>\n",
       "      <td>AFG</td>\n",
       "      <td>3752993.0</td>\n",
       "      <td>NaN</td>\n",
       "      <td>NaN</td>\n",
       "      <td>NaN</td>\n",
       "      <td>NaN</td>\n",
       "      <td>NaN</td>\n",
       "      <td>NaN</td>\n",
       "      <td>...</td>\n",
       "      <td>NaN</td>\n",
       "      <td>NaN</td>\n",
       "      <td>NaN</td>\n",
       "      <td>NaN</td>\n",
       "      <td>NaN</td>\n",
       "      <td>NaN</td>\n",
       "      <td>NaN</td>\n",
       "      <td>NaN</td>\n",
       "      <td>NaN</td>\n",
       "      <td>NaN</td>\n",
       "    </tr>\n",
       "    <tr>\n",
       "      <th>1</th>\n",
       "      <td>Afghanistan</td>\n",
       "      <td>1851</td>\n",
       "      <td>AFG</td>\n",
       "      <td>3767956.0</td>\n",
       "      <td>NaN</td>\n",
       "      <td>NaN</td>\n",
       "      <td>NaN</td>\n",
       "      <td>NaN</td>\n",
       "      <td>NaN</td>\n",
       "      <td>NaN</td>\n",
       "      <td>...</td>\n",
       "      <td>NaN</td>\n",
       "      <td>0.165</td>\n",
       "      <td>0.000</td>\n",
       "      <td>0.000</td>\n",
       "      <td>0.000</td>\n",
       "      <td>0.0</td>\n",
       "      <td>NaN</td>\n",
       "      <td>NaN</td>\n",
       "      <td>NaN</td>\n",
       "      <td>NaN</td>\n",
       "    </tr>\n",
       "    <tr>\n",
       "      <th>2</th>\n",
       "      <td>Afghanistan</td>\n",
       "      <td>1852</td>\n",
       "      <td>AFG</td>\n",
       "      <td>3783940.0</td>\n",
       "      <td>NaN</td>\n",
       "      <td>NaN</td>\n",
       "      <td>NaN</td>\n",
       "      <td>NaN</td>\n",
       "      <td>NaN</td>\n",
       "      <td>NaN</td>\n",
       "      <td>...</td>\n",
       "      <td>NaN</td>\n",
       "      <td>0.164</td>\n",
       "      <td>0.000</td>\n",
       "      <td>0.000</td>\n",
       "      <td>0.000</td>\n",
       "      <td>0.0</td>\n",
       "      <td>NaN</td>\n",
       "      <td>NaN</td>\n",
       "      <td>NaN</td>\n",
       "      <td>NaN</td>\n",
       "    </tr>\n",
       "    <tr>\n",
       "      <th>3</th>\n",
       "      <td>Afghanistan</td>\n",
       "      <td>1853</td>\n",
       "      <td>AFG</td>\n",
       "      <td>3800954.0</td>\n",
       "      <td>NaN</td>\n",
       "      <td>NaN</td>\n",
       "      <td>NaN</td>\n",
       "      <td>NaN</td>\n",
       "      <td>NaN</td>\n",
       "      <td>NaN</td>\n",
       "      <td>...</td>\n",
       "      <td>NaN</td>\n",
       "      <td>0.164</td>\n",
       "      <td>0.000</td>\n",
       "      <td>0.000</td>\n",
       "      <td>0.000</td>\n",
       "      <td>0.0</td>\n",
       "      <td>NaN</td>\n",
       "      <td>NaN</td>\n",
       "      <td>NaN</td>\n",
       "      <td>NaN</td>\n",
       "    </tr>\n",
       "    <tr>\n",
       "      <th>4</th>\n",
       "      <td>Afghanistan</td>\n",
       "      <td>1854</td>\n",
       "      <td>AFG</td>\n",
       "      <td>3818038.0</td>\n",
       "      <td>NaN</td>\n",
       "      <td>NaN</td>\n",
       "      <td>NaN</td>\n",
       "      <td>NaN</td>\n",
       "      <td>NaN</td>\n",
       "      <td>NaN</td>\n",
       "      <td>...</td>\n",
       "      <td>NaN</td>\n",
       "      <td>0.163</td>\n",
       "      <td>0.000</td>\n",
       "      <td>0.000</td>\n",
       "      <td>0.000</td>\n",
       "      <td>0.0</td>\n",
       "      <td>NaN</td>\n",
       "      <td>NaN</td>\n",
       "      <td>NaN</td>\n",
       "      <td>NaN</td>\n",
       "    </tr>\n",
       "    <tr>\n",
       "      <th>...</th>\n",
       "      <td>...</td>\n",
       "      <td>...</td>\n",
       "      <td>...</td>\n",
       "      <td>...</td>\n",
       "      <td>...</td>\n",
       "      <td>...</td>\n",
       "      <td>...</td>\n",
       "      <td>...</td>\n",
       "      <td>...</td>\n",
       "      <td>...</td>\n",
       "      <td>...</td>\n",
       "      <td>...</td>\n",
       "      <td>...</td>\n",
       "      <td>...</td>\n",
       "      <td>...</td>\n",
       "      <td>...</td>\n",
       "      <td>...</td>\n",
       "      <td>...</td>\n",
       "      <td>...</td>\n",
       "      <td>...</td>\n",
       "      <td>...</td>\n",
       "    </tr>\n",
       "    <tr>\n",
       "      <th>50593</th>\n",
       "      <td>Zimbabwe</td>\n",
       "      <td>2017</td>\n",
       "      <td>ZWE</td>\n",
       "      <td>14751101.0</td>\n",
       "      <td>2.194784e+10</td>\n",
       "      <td>0.469</td>\n",
       "      <td>0.032</td>\n",
       "      <td>9.596</td>\n",
       "      <td>-0.937</td>\n",
       "      <td>-8.899</td>\n",
       "      <td>...</td>\n",
       "      <td>NaN</td>\n",
       "      <td>0.114</td>\n",
       "      <td>0.001</td>\n",
       "      <td>0.001</td>\n",
       "      <td>0.002</td>\n",
       "      <td>0.0</td>\n",
       "      <td>115.59</td>\n",
       "      <td>28.30</td>\n",
       "      <td>0.910</td>\n",
       "      <td>9.486</td>\n",
       "    </tr>\n",
       "    <tr>\n",
       "      <th>50594</th>\n",
       "      <td>Zimbabwe</td>\n",
       "      <td>2018</td>\n",
       "      <td>ZWE</td>\n",
       "      <td>15052191.0</td>\n",
       "      <td>2.271535e+10</td>\n",
       "      <td>0.558</td>\n",
       "      <td>0.037</td>\n",
       "      <td>11.795</td>\n",
       "      <td>2.199</td>\n",
       "      <td>22.920</td>\n",
       "      <td>...</td>\n",
       "      <td>NaN</td>\n",
       "      <td>0.114</td>\n",
       "      <td>0.001</td>\n",
       "      <td>0.001</td>\n",
       "      <td>0.002</td>\n",
       "      <td>0.0</td>\n",
       "      <td>118.22</td>\n",
       "      <td>30.83</td>\n",
       "      <td>0.771</td>\n",
       "      <td>6.537</td>\n",
       "    </tr>\n",
       "    <tr>\n",
       "      <th>50595</th>\n",
       "      <td>Zimbabwe</td>\n",
       "      <td>2019</td>\n",
       "      <td>ZWE</td>\n",
       "      <td>15354606.0</td>\n",
       "      <td>NaN</td>\n",
       "      <td>0.570</td>\n",
       "      <td>0.037</td>\n",
       "      <td>11.115</td>\n",
       "      <td>-0.681</td>\n",
       "      <td>-5.772</td>\n",
       "      <td>...</td>\n",
       "      <td>NaN</td>\n",
       "      <td>0.113</td>\n",
       "      <td>0.001</td>\n",
       "      <td>0.001</td>\n",
       "      <td>0.002</td>\n",
       "      <td>0.0</td>\n",
       "      <td>117.96</td>\n",
       "      <td>30.53</td>\n",
       "      <td>0.978</td>\n",
       "      <td>8.795</td>\n",
       "    </tr>\n",
       "    <tr>\n",
       "      <th>50596</th>\n",
       "      <td>Zimbabwe</td>\n",
       "      <td>2020</td>\n",
       "      <td>ZWE</td>\n",
       "      <td>15669663.0</td>\n",
       "      <td>NaN</td>\n",
       "      <td>0.570</td>\n",
       "      <td>0.036</td>\n",
       "      <td>10.608</td>\n",
       "      <td>-0.507</td>\n",
       "      <td>-4.559</td>\n",
       "      <td>...</td>\n",
       "      <td>NaN</td>\n",
       "      <td>0.112</td>\n",
       "      <td>0.001</td>\n",
       "      <td>0.001</td>\n",
       "      <td>0.002</td>\n",
       "      <td>0.0</td>\n",
       "      <td>NaN</td>\n",
       "      <td>NaN</td>\n",
       "      <td>1.006</td>\n",
       "      <td>9.481</td>\n",
       "    </tr>\n",
       "    <tr>\n",
       "      <th>50597</th>\n",
       "      <td>Zimbabwe</td>\n",
       "      <td>2021</td>\n",
       "      <td>ZWE</td>\n",
       "      <td>15993525.0</td>\n",
       "      <td>NaN</td>\n",
       "      <td>0.570</td>\n",
       "      <td>0.036</td>\n",
       "      <td>11.296</td>\n",
       "      <td>0.688</td>\n",
       "      <td>6.488</td>\n",
       "      <td>...</td>\n",
       "      <td>NaN</td>\n",
       "      <td>0.111</td>\n",
       "      <td>0.001</td>\n",
       "      <td>0.001</td>\n",
       "      <td>0.002</td>\n",
       "      <td>0.0</td>\n",
       "      <td>NaN</td>\n",
       "      <td>NaN</td>\n",
       "      <td>NaN</td>\n",
       "      <td>NaN</td>\n",
       "    </tr>\n",
       "  </tbody>\n",
       "</table>\n",
       "<p>50598 rows × 79 columns</p>\n",
       "</div>"
      ],
      "text/plain": [
       "           country  year iso_code  population           gdp  cement_co2  \\\n",
       "0      Afghanistan  1850      AFG   3752993.0           NaN         NaN   \n",
       "1      Afghanistan  1851      AFG   3767956.0           NaN         NaN   \n",
       "2      Afghanistan  1852      AFG   3783940.0           NaN         NaN   \n",
       "3      Afghanistan  1853      AFG   3800954.0           NaN         NaN   \n",
       "4      Afghanistan  1854      AFG   3818038.0           NaN         NaN   \n",
       "...            ...   ...      ...         ...           ...         ...   \n",
       "50593     Zimbabwe  2017      ZWE  14751101.0  2.194784e+10       0.469   \n",
       "50594     Zimbabwe  2018      ZWE  15052191.0  2.271535e+10       0.558   \n",
       "50595     Zimbabwe  2019      ZWE  15354606.0           NaN       0.570   \n",
       "50596     Zimbabwe  2020      ZWE  15669663.0           NaN       0.570   \n",
       "50597     Zimbabwe  2021      ZWE  15993525.0           NaN       0.570   \n",
       "\n",
       "       cement_co2_per_capita     co2  co2_growth_abs  co2_growth_prct  ...  \\\n",
       "0                        NaN     NaN             NaN              NaN  ...   \n",
       "1                        NaN     NaN             NaN              NaN  ...   \n",
       "2                        NaN     NaN             NaN              NaN  ...   \n",
       "3                        NaN     NaN             NaN              NaN  ...   \n",
       "4                        NaN     NaN             NaN              NaN  ...   \n",
       "...                      ...     ...             ...              ...  ...   \n",
       "50593                  0.032   9.596          -0.937           -8.899  ...   \n",
       "50594                  0.037  11.795           2.199           22.920  ...   \n",
       "50595                  0.037  11.115          -0.681           -5.772  ...   \n",
       "50596                  0.036  10.608          -0.507           -4.559  ...   \n",
       "50597                  0.036  11.296           0.688            6.488  ...   \n",
       "\n",
       "       share_global_other_co2  share_of_temperature_change_from_ghg  \\\n",
       "0                         NaN                                   NaN   \n",
       "1                         NaN                                 0.165   \n",
       "2                         NaN                                 0.164   \n",
       "3                         NaN                                 0.164   \n",
       "4                         NaN                                 0.163   \n",
       "...                       ...                                   ...   \n",
       "50593                     NaN                                 0.114   \n",
       "50594                     NaN                                 0.114   \n",
       "50595                     NaN                                 0.113   \n",
       "50596                     NaN                                 0.112   \n",
       "50597                     NaN                                 0.111   \n",
       "\n",
       "       temperature_change_from_ch4  temperature_change_from_co2  \\\n",
       "0                              NaN                          NaN   \n",
       "1                            0.000                        0.000   \n",
       "2                            0.000                        0.000   \n",
       "3                            0.000                        0.000   \n",
       "4                            0.000                        0.000   \n",
       "...                            ...                          ...   \n",
       "50593                        0.001                        0.001   \n",
       "50594                        0.001                        0.001   \n",
       "50595                        0.001                        0.001   \n",
       "50596                        0.001                        0.001   \n",
       "50597                        0.001                        0.001   \n",
       "\n",
       "       temperature_change_from_ghg  temperature_change_from_n2o  total_ghg  \\\n",
       "0                              NaN                          NaN        NaN   \n",
       "1                            0.000                          0.0        NaN   \n",
       "2                            0.000                          0.0        NaN   \n",
       "3                            0.000                          0.0        NaN   \n",
       "4                            0.000                          0.0        NaN   \n",
       "...                            ...                          ...        ...   \n",
       "50593                        0.002                          0.0     115.59   \n",
       "50594                        0.002                          0.0     118.22   \n",
       "50595                        0.002                          0.0     117.96   \n",
       "50596                        0.002                          0.0        NaN   \n",
       "50597                        0.002                          0.0        NaN   \n",
       "\n",
       "       total_ghg_excluding_lucf  trade_co2  trade_co2_share  \n",
       "0                           NaN        NaN              NaN  \n",
       "1                           NaN        NaN              NaN  \n",
       "2                           NaN        NaN              NaN  \n",
       "3                           NaN        NaN              NaN  \n",
       "4                           NaN        NaN              NaN  \n",
       "...                         ...        ...              ...  \n",
       "50593                     28.30      0.910            9.486  \n",
       "50594                     30.83      0.771            6.537  \n",
       "50595                     30.53      0.978            8.795  \n",
       "50596                       NaN      1.006            9.481  \n",
       "50597                       NaN        NaN              NaN  \n",
       "\n",
       "[50598 rows x 79 columns]"
      ]
     },
     "execution_count": 2,
     "metadata": {},
     "output_type": "execute_result"
    }
   ],
   "source": [
    "df = pd.read_csv(\"visualizing_global_co2_data.csv\")\n",
    "df"
   ]
  },
  {
   "cell_type": "code",
   "execution_count": 3,
   "id": "7cd85cc0-d49c-4b39-bf6f-dde7d030f7fc",
   "metadata": {
    "tags": []
   },
   "outputs": [
    {
     "data": {
      "text/html": [
       "<div>\n",
       "<style scoped>\n",
       "    .dataframe tbody tr th:only-of-type {\n",
       "        vertical-align: middle;\n",
       "    }\n",
       "\n",
       "    .dataframe tbody tr th {\n",
       "        vertical-align: top;\n",
       "    }\n",
       "\n",
       "    .dataframe thead th {\n",
       "        text-align: right;\n",
       "    }\n",
       "</style>\n",
       "<table border=\"1\" class=\"dataframe\">\n",
       "  <thead>\n",
       "    <tr style=\"text-align: right;\">\n",
       "      <th></th>\n",
       "      <th>year</th>\n",
       "      <th>population</th>\n",
       "      <th>gdp</th>\n",
       "      <th>cement_co2</th>\n",
       "      <th>cement_co2_per_capita</th>\n",
       "      <th>co2</th>\n",
       "      <th>co2_growth_abs</th>\n",
       "      <th>co2_growth_prct</th>\n",
       "      <th>co2_including_luc</th>\n",
       "      <th>co2_including_luc_growth_abs</th>\n",
       "      <th>...</th>\n",
       "      <th>share_global_other_co2</th>\n",
       "      <th>share_of_temperature_change_from_ghg</th>\n",
       "      <th>temperature_change_from_ch4</th>\n",
       "      <th>temperature_change_from_co2</th>\n",
       "      <th>temperature_change_from_ghg</th>\n",
       "      <th>temperature_change_from_n2o</th>\n",
       "      <th>total_ghg</th>\n",
       "      <th>total_ghg_excluding_lucf</th>\n",
       "      <th>trade_co2</th>\n",
       "      <th>trade_co2_share</th>\n",
       "    </tr>\n",
       "  </thead>\n",
       "  <tbody>\n",
       "    <tr>\n",
       "      <th>count</th>\n",
       "      <td>50598.000000</td>\n",
       "      <td>4.000800e+04</td>\n",
       "      <td>1.456400e+04</td>\n",
       "      <td>24974.000000</td>\n",
       "      <td>22714.000000</td>\n",
       "      <td>31349.000000</td>\n",
       "      <td>29010.000000</td>\n",
       "      <td>25032.000000</td>\n",
       "      <td>24218.000000</td>\n",
       "      <td>23917.000000</td>\n",
       "      <td>...</td>\n",
       "      <td>2386.000000</td>\n",
       "      <td>41724.000000</td>\n",
       "      <td>37620.000000</td>\n",
       "      <td>41724.000000</td>\n",
       "      <td>41724.000000</td>\n",
       "      <td>37620.000000</td>\n",
       "      <td>6149.000000</td>\n",
       "      <td>6149.000000</td>\n",
       "      <td>4259.000000</td>\n",
       "      <td>4258.000000</td>\n",
       "    </tr>\n",
       "    <tr>\n",
       "      <th>mean</th>\n",
       "      <td>1925.365173</td>\n",
       "      <td>5.926810e+07</td>\n",
       "      <td>2.677586e+11</td>\n",
       "      <td>8.392491</td>\n",
       "      <td>0.063958</td>\n",
       "      <td>380.237549</td>\n",
       "      <td>5.703529</td>\n",
       "      <td>20.492413</td>\n",
       "      <td>499.312724</td>\n",
       "      <td>7.204133</td>\n",
       "      <td>...</td>\n",
       "      <td>20.674300</td>\n",
       "      <td>2.190116</td>\n",
       "      <td>0.002956</td>\n",
       "      <td>0.006886</td>\n",
       "      <td>0.010069</td>\n",
       "      <td>0.000497</td>\n",
       "      <td>771.485168</td>\n",
       "      <td>748.578502</td>\n",
       "      <td>-7.518768</td>\n",
       "      <td>20.623119</td>\n",
       "    </tr>\n",
       "    <tr>\n",
       "      <th>std</th>\n",
       "      <td>59.882945</td>\n",
       "      <td>3.222866e+08</td>\n",
       "      <td>2.103151e+12</td>\n",
       "      <td>63.009433</td>\n",
       "      <td>0.123023</td>\n",
       "      <td>1801.527942</td>\n",
       "      <td>58.698348</td>\n",
       "      <td>699.580857</td>\n",
       "      <td>2081.497921</td>\n",
       "      <td>92.866497</td>\n",
       "      <td>...</td>\n",
       "      <td>34.316064</td>\n",
       "      <td>9.008552</td>\n",
       "      <td>0.016073</td>\n",
       "      <td>0.039684</td>\n",
       "      <td>0.057186</td>\n",
       "      <td>0.002943</td>\n",
       "      <td>3553.425123</td>\n",
       "      <td>3488.004825</td>\n",
       "      <td>269.513468</td>\n",
       "      <td>53.596027</td>\n",
       "    </tr>\n",
       "    <tr>\n",
       "      <th>min</th>\n",
       "      <td>1750.000000</td>\n",
       "      <td>2.100000e+01</td>\n",
       "      <td>4.998000e+07</td>\n",
       "      <td>0.000000</td>\n",
       "      <td>0.000000</td>\n",
       "      <td>0.000000</td>\n",
       "      <td>-1818.472000</td>\n",
       "      <td>-100.000000</td>\n",
       "      <td>-187.032000</td>\n",
       "      <td>-2317.996000</td>\n",
       "      <td>...</td>\n",
       "      <td>0.000000</td>\n",
       "      <td>-0.899000</td>\n",
       "      <td>-0.001000</td>\n",
       "      <td>0.000000</td>\n",
       "      <td>-0.001000</td>\n",
       "      <td>0.000000</td>\n",
       "      <td>-186.550000</td>\n",
       "      <td>0.010000</td>\n",
       "      <td>-2399.517000</td>\n",
       "      <td>-98.279000</td>\n",
       "    </tr>\n",
       "    <tr>\n",
       "      <th>25%</th>\n",
       "      <td>1882.000000</td>\n",
       "      <td>3.198618e+05</td>\n",
       "      <td>7.516679e+09</td>\n",
       "      <td>0.000000</td>\n",
       "      <td>0.000000</td>\n",
       "      <td>0.125000</td>\n",
       "      <td>0.000000</td>\n",
       "      <td>-0.541500</td>\n",
       "      <td>4.646000</td>\n",
       "      <td>-0.572000</td>\n",
       "      <td>...</td>\n",
       "      <td>0.339000</td>\n",
       "      <td>0.003000</td>\n",
       "      <td>0.000000</td>\n",
       "      <td>0.000000</td>\n",
       "      <td>0.000000</td>\n",
       "      <td>0.000000</td>\n",
       "      <td>8.440000</td>\n",
       "      <td>7.030000</td>\n",
       "      <td>-3.138000</td>\n",
       "      <td>-6.402750</td>\n",
       "    </tr>\n",
       "    <tr>\n",
       "      <th>50%</th>\n",
       "      <td>1929.000000</td>\n",
       "      <td>2.323117e+06</td>\n",
       "      <td>2.597999e+10</td>\n",
       "      <td>0.010000</td>\n",
       "      <td>0.005000</td>\n",
       "      <td>3.109000</td>\n",
       "      <td>0.015000</td>\n",
       "      <td>3.783500</td>\n",
       "      <td>24.417000</td>\n",
       "      <td>0.062000</td>\n",
       "      <td>...</td>\n",
       "      <td>1.583500</td>\n",
       "      <td>0.071000</td>\n",
       "      <td>0.000000</td>\n",
       "      <td>0.000000</td>\n",
       "      <td>0.000000</td>\n",
       "      <td>0.000000</td>\n",
       "      <td>38.050000</td>\n",
       "      <td>30.600000</td>\n",
       "      <td>1.484000</td>\n",
       "      <td>8.867500</td>\n",
       "    </tr>\n",
       "    <tr>\n",
       "      <th>75%</th>\n",
       "      <td>1975.000000</td>\n",
       "      <td>9.802751e+06</td>\n",
       "      <td>1.132942e+11</td>\n",
       "      <td>0.692000</td>\n",
       "      <td>0.087000</td>\n",
       "      <td>43.730000</td>\n",
       "      <td>0.766000</td>\n",
       "      <td>10.569000</td>\n",
       "      <td>113.381250</td>\n",
       "      <td>2.325000</td>\n",
       "      <td>...</td>\n",
       "      <td>22.523500</td>\n",
       "      <td>0.329000</td>\n",
       "      <td>0.001000</td>\n",
       "      <td>0.001000</td>\n",
       "      <td>0.001000</td>\n",
       "      <td>0.000000</td>\n",
       "      <td>151.150000</td>\n",
       "      <td>131.320000</td>\n",
       "      <td>9.029500</td>\n",
       "      <td>32.949250</td>\n",
       "    </tr>\n",
       "    <tr>\n",
       "      <th>max</th>\n",
       "      <td>2021.000000</td>\n",
       "      <td>7.909295e+09</td>\n",
       "      <td>1.136302e+14</td>\n",
       "      <td>1672.592000</td>\n",
       "      <td>2.574000</td>\n",
       "      <td>37123.852000</td>\n",
       "      <td>1859.764000</td>\n",
       "      <td>102318.508000</td>\n",
       "      <td>41639.840000</td>\n",
       "      <td>2246.723000</td>\n",
       "      <td>...</td>\n",
       "      <td>100.000000</td>\n",
       "      <td>100.000000</td>\n",
       "      <td>0.415000</td>\n",
       "      <td>1.113000</td>\n",
       "      <td>1.611000</td>\n",
       "      <td>0.083000</td>\n",
       "      <td>49758.230000</td>\n",
       "      <td>48116.559000</td>\n",
       "      <td>2206.337000</td>\n",
       "      <td>607.521000</td>\n",
       "    </tr>\n",
       "  </tbody>\n",
       "</table>\n",
       "<p>8 rows × 77 columns</p>\n",
       "</div>"
      ],
      "text/plain": [
       "               year    population           gdp    cement_co2  \\\n",
       "count  50598.000000  4.000800e+04  1.456400e+04  24974.000000   \n",
       "mean    1925.365173  5.926810e+07  2.677586e+11      8.392491   \n",
       "std       59.882945  3.222866e+08  2.103151e+12     63.009433   \n",
       "min     1750.000000  2.100000e+01  4.998000e+07      0.000000   \n",
       "25%     1882.000000  3.198618e+05  7.516679e+09      0.000000   \n",
       "50%     1929.000000  2.323117e+06  2.597999e+10      0.010000   \n",
       "75%     1975.000000  9.802751e+06  1.132942e+11      0.692000   \n",
       "max     2021.000000  7.909295e+09  1.136302e+14   1672.592000   \n",
       "\n",
       "       cement_co2_per_capita           co2  co2_growth_abs  co2_growth_prct  \\\n",
       "count           22714.000000  31349.000000    29010.000000     25032.000000   \n",
       "mean                0.063958    380.237549        5.703529        20.492413   \n",
       "std                 0.123023   1801.527942       58.698348       699.580857   \n",
       "min                 0.000000      0.000000    -1818.472000      -100.000000   \n",
       "25%                 0.000000      0.125000        0.000000        -0.541500   \n",
       "50%                 0.005000      3.109000        0.015000         3.783500   \n",
       "75%                 0.087000     43.730000        0.766000        10.569000   \n",
       "max                 2.574000  37123.852000     1859.764000    102318.508000   \n",
       "\n",
       "       co2_including_luc  co2_including_luc_growth_abs  ...  \\\n",
       "count       24218.000000                  23917.000000  ...   \n",
       "mean          499.312724                      7.204133  ...   \n",
       "std          2081.497921                     92.866497  ...   \n",
       "min          -187.032000                  -2317.996000  ...   \n",
       "25%             4.646000                     -0.572000  ...   \n",
       "50%            24.417000                      0.062000  ...   \n",
       "75%           113.381250                      2.325000  ...   \n",
       "max         41639.840000                   2246.723000  ...   \n",
       "\n",
       "       share_global_other_co2  share_of_temperature_change_from_ghg  \\\n",
       "count             2386.000000                          41724.000000   \n",
       "mean                20.674300                              2.190116   \n",
       "std                 34.316064                              9.008552   \n",
       "min                  0.000000                             -0.899000   \n",
       "25%                  0.339000                              0.003000   \n",
       "50%                  1.583500                              0.071000   \n",
       "75%                 22.523500                              0.329000   \n",
       "max                100.000000                            100.000000   \n",
       "\n",
       "       temperature_change_from_ch4  temperature_change_from_co2  \\\n",
       "count                 37620.000000                 41724.000000   \n",
       "mean                      0.002956                     0.006886   \n",
       "std                       0.016073                     0.039684   \n",
       "min                      -0.001000                     0.000000   \n",
       "25%                       0.000000                     0.000000   \n",
       "50%                       0.000000                     0.000000   \n",
       "75%                       0.001000                     0.001000   \n",
       "max                       0.415000                     1.113000   \n",
       "\n",
       "       temperature_change_from_ghg  temperature_change_from_n2o     total_ghg  \\\n",
       "count                 41724.000000                 37620.000000   6149.000000   \n",
       "mean                      0.010069                     0.000497    771.485168   \n",
       "std                       0.057186                     0.002943   3553.425123   \n",
       "min                      -0.001000                     0.000000   -186.550000   \n",
       "25%                       0.000000                     0.000000      8.440000   \n",
       "50%                       0.000000                     0.000000     38.050000   \n",
       "75%                       0.001000                     0.000000    151.150000   \n",
       "max                       1.611000                     0.083000  49758.230000   \n",
       "\n",
       "       total_ghg_excluding_lucf    trade_co2  trade_co2_share  \n",
       "count               6149.000000  4259.000000      4258.000000  \n",
       "mean                 748.578502    -7.518768        20.623119  \n",
       "std                 3488.004825   269.513468        53.596027  \n",
       "min                    0.010000 -2399.517000       -98.279000  \n",
       "25%                    7.030000    -3.138000        -6.402750  \n",
       "50%                   30.600000     1.484000         8.867500  \n",
       "75%                  131.320000     9.029500        32.949250  \n",
       "max                48116.559000  2206.337000       607.521000  \n",
       "\n",
       "[8 rows x 77 columns]"
      ]
     },
     "execution_count": 3,
     "metadata": {},
     "output_type": "execute_result"
    }
   ],
   "source": [
    "df.describe()"
   ]
  },
  {
   "cell_type": "code",
   "execution_count": 4,
   "id": "31893e48-7406-4f5b-8511-8c5e66d9a721",
   "metadata": {
    "tags": []
   },
   "outputs": [],
   "source": [
    "df['year'] = pd.to_datetime(df['year'], format='%Y')"
   ]
  },
  {
   "cell_type": "code",
   "execution_count": 5,
   "id": "5b241904-3bab-4ef8-8717-2aaa97c6af7b",
   "metadata": {
    "tags": []
   },
   "outputs": [
    {
     "data": {
      "text/html": [
       "<style>\n",
       "    .blue {\n",
       "        background-color: #0074D9;\n",
       "        padding: 5px;\n",
       "        color: white;\n",
       "        font-size: 20px; /* Decreased font size */\n",
       "    }\n",
       "</style>\n",
       "\n",
       "<div class=\"blue\" style=\"font-size: 20px;\">\n",
       "    Question 1) How have global emissions of carbon dioxide (CO2) changed over time?\n",
       "</div>\n"
      ],
      "text/plain": [
       "<IPython.core.display.HTML object>"
      ]
     },
     "metadata": {},
     "output_type": "display_data"
    }
   ],
   "source": [
    "%%html\n",
    "<style>\n",
    "    .blue {\n",
    "        background-color: #0074D9;\n",
    "        padding: 5px;\n",
    "        color: white;\n",
    "        font-size: 20px; /* Decreased font size */\n",
    "    }\n",
    "</style>\n",
    "\n",
    "<div class=\"blue\" style=\"font-size: 20px;\">\n",
    "    Question 1) How have global emissions of carbon dioxide (CO2) changed over time?\n",
    "</div>"
   ]
  },
  {
   "cell_type": "code",
   "execution_count": 46,
   "id": "ccabebc2-c623-49a6-bf19-1d260582f254",
   "metadata": {
    "tags": []
   },
   "outputs": [
    {
     "data": {
      "image/png": "[encoded data removed]",
      "text/plain": [
       "<Figure size 640x480 with 1 Axes>"
      ]
     },
     "metadata": {},
     "output_type": "display_data"
    }
   ],
   "source": [
    "global_co2_emission = df.groupby('year')['co2'].sum()\n",
    "global_co2_emission.plot(kind='line', c='#FFFF00', linewidth=2.5)\n",
    "plt.title(\"Global CO2 Emission Over Time\")\n",
    "plt.xlabel('Year')\n",
    "plt.ylabel('CO2 Emission (million tonnes)')\n",
    "plt.grid(True,color='grey')\n",
    "plt.gca().set_facecolor('k')\n",
    "plt.show()"
   ]
  },
  {
   "cell_type": "code",
   "execution_count": 7,
   "id": "dafe7b5e-cfd6-43fd-ad06-00ca844dfab2",
   "metadata": {
    "tags": []
   },
   "outputs": [
    {
     "data": {
      "text/html": [
       "<style>\n",
       "    .blue {\n",
       "        background-color: #0074D9;\n",
       "        padding: 5px;\n",
       "        color: white;\n",
       "        font-size: 20px; /* Decreased font size */\n",
       "    }\n",
       "</style>\n",
       "\n",
       "<div class=\"blue\" style=\"font-size: 20px;\">\n",
       "    Question 2) Who emits the most CO2 each year?\n",
       "</div>\n"
      ],
      "text/plain": [
       "<IPython.core.display.HTML object>"
      ]
     },
     "metadata": {},
     "output_type": "display_data"
    }
   ],
   "source": [
    "%%html\n",
    "<style>\n",
    "    .blue {\n",
    "        background-color: #0074D9;\n",
    "        padding: 5px;\n",
    "        color: white;\n",
    "        font-size: 20px; /* Decreased font size */\n",
    "    }\n",
    "</style>\n",
    "\n",
    "<div class=\"blue\" style=\"font-size: 20px;\">\n",
    "    Question 2) Who emits the most CO2 each year?\n",
    "</div>"
   ]
  },
  {
   "cell_type": "code",
   "execution_count": 8,
   "id": "46ed06fe-30e8-4eee-820c-3598d33d01f4",
   "metadata": {
    "tags": []
   },
   "outputs": [
    {
     "name": "stdout",
     "output_type": "stream",
     "text": [
      "Country with the highest CO2 emission each year:\n",
      "            year country        co2\n",
      "14007 1750-01-01  Europe      9.351\n",
      "14008 1751-01-01  Europe      9.351\n",
      "14009 1752-01-01  Europe      9.354\n",
      "14010 1753-01-01  Europe      9.354\n",
      "14011 1754-01-01  Europe      9.358\n",
      "...          ...     ...        ...\n",
      "50077 2017-01-01   World  36096.738\n",
      "50078 2018-01-01   World  36826.508\n",
      "50079 2019-01-01   World  37082.559\n",
      "50080 2020-01-01   World  35264.086\n",
      "50081 2021-01-01   World  37123.852\n",
      "\n",
      "[272 rows x 3 columns]\n"
     ]
    }
   ],
   "source": [
    "max_co2_emission_country = df.groupby('year')['co2'].idxmax()\n",
    "print(\"Country with the highest CO2 emission each year:\")\n",
    "print(df.loc[max_co2_emission_country, ['year', 'country', 'co2']])"
   ]
  },
  {
   "cell_type": "code",
   "execution_count": 19,
   "id": "2b00f763-6cee-41f6-8365-88e61e5a8ed7",
   "metadata": {
    "tags": []
   },
   "outputs": [
    {
     "data": {
      "text/html": [
       "<style>\n",
       "    .blue {\n",
       "        background-color: #0074D9;\n",
       "        padding: 5px;\n",
       "        color: white;\n",
       "        font-size: 20px; /* Decreased font size */\n",
       "    }\n",
       "</style>\n",
       "\n",
       "<div class=\"blue\" style=\"font-size: 20px;\">\n",
       "    Question 3) Where in the world does the average person emit the most CO2 each year?\n",
       "</div>\n"
      ],
      "text/plain": [
       "<IPython.core.display.HTML object>"
      ]
     },
     "metadata": {},
     "output_type": "display_data"
    }
   ],
   "source": [
    "%%html\n",
    "<style>\n",
    "    .blue {\n",
    "        background-color: #0074D9;\n",
    "        padding: 5px;\n",
    "        color: white;\n",
    "        font-size: 20px; /* Decreased font size */\n",
    "    }\n",
    "</style>\n",
    "\n",
    "<div class=\"blue\" style=\"font-size: 20px;\">\n",
    "    Question 3) Where in the world does the average person emit the most CO2 each year?\n",
    "</div>"
   ]
  },
  {
   "cell_type": "code",
   "execution_count": 27,
   "id": "65840d12-9e83-4c11-8887-2be01f0423b6",
   "metadata": {
    "tags": []
   },
   "outputs": [
    {
     "name": "stdout",
     "output_type": "stream",
     "text": [
      "country with the highest co2 emition per capita:\n",
      "            year         country  co2_per_capita\n",
      "47665 1750-01-01  United Kingdom        0.000001\n",
      "47675 1760-01-01  United Kingdom        0.000001\n",
      "47685 1770-01-01  United Kingdom        0.000001\n",
      "47695 1780-01-01  United Kingdom        0.000001\n",
      "47705 1790-01-01  United Kingdom        0.000002\n",
      "...          ...             ...             ...\n",
      "37955 2017-01-01           Qatar        0.000037\n",
      "37956 2018-01-01           Qatar        0.000034\n",
      "37957 2019-01-01           Qatar        0.000036\n",
      "37958 2020-01-01           Qatar        0.000034\n",
      "37959 2021-01-01           Qatar        0.000036\n",
      "\n",
      "[227 rows x 3 columns]\n"
     ]
    }
   ],
   "source": [
    "df.dropna(subset=['population', 'co2'], inplace=True)\n",
    "df['co2_per_capita'] = df['co2']/df['population']\n",
    "max_co2_per_capita = df.groupby('year')['co2_per_capita'].idxmax()\n",
    "print(\"country with the highest co2 emition per capita:\")\n",
    "print(df.loc[max_co2_per_capita, ['year','country','co2_per_capita']])"
   ]
  },
  {
   "cell_type": "code",
   "execution_count": 31,
   "id": "48bc1dcb-5cf2-42a0-a7ed-96555f095ad9",
   "metadata": {
    "tags": []
   },
   "outputs": [
    {
     "data": {
      "text/html": [
       "<style>\n",
       "    .blue {\n",
       "        background-color: #0074D9;\n",
       "        padding: 5px;\n",
       "        color: white;\n",
       "        font-size: 20px; /* Decreased font size */\n",
       "    }\n",
       "</style>\n",
       "\n",
       "<div class=\"blue\" style=\"font-size: 20px;\">\n",
       "    Question 4) How have global emissions of carbon dioxide (CO2) from fossil fuels and land use changed over time?\n",
       "</div>\n"
      ],
      "text/plain": [
       "<IPython.core.display.HTML object>"
      ]
     },
     "metadata": {},
     "output_type": "display_data"
    }
   ],
   "source": [
    "%%html\n",
    "<style>\n",
    "    .blue {\n",
    "        background-color: #0074D9;\n",
    "        padding: 5px;\n",
    "        color: white;\n",
    "        font-size: 20px; /* Decreased font size */\n",
    "    }\n",
    "</style>\n",
    "\n",
    "<div class=\"blue\" style=\"font-size: 20px;\">\n",
    "    Question 4) How have global emissions of carbon dioxide (CO2) from fossil fuels and land use changed over time?\n",
    "</div>"
   ]
  },
  {
   "cell_type": "code",
   "execution_count": 38,
   "id": "45221987-4e8d-4ab8-899b-f06a7be8d230",
   "metadata": {
    "tags": []
   },
   "outputs": [],
   "source": [
    "global_fossilfuel_co2 = df.groupby('year')['cumulative_oil_co2'].sum()\n",
    "global_land_co2_use = df.groupby('year')['land_use_change_co2'].sum()"
   ]
  },
  {
   "cell_type": "code",
   "execution_count": 47,
   "id": "cfd3e2db-cabc-459d-b7fb-36615c26c4de",
   "metadata": {
    "tags": []
   },
   "outputs": [
    {
     "data": {
      "image/png": "[encoded data removed]",
      "text/plain": [
       "<Figure size 640x480 with 1 Axes>"
      ]
     },
     "metadata": {},
     "output_type": "display_data"
    }
   ],
   "source": [
    "plt.plot(global_fossilfuel_co2.index, global_fossilfuel_co2, label='Fossil Fuels CO2', color='#FF0066', linewidth=2.5)\n",
    "plt.plot( global_land_co2_use.index, global_land_co2_use, label='Land Use CO2', color='#FFFF00', linewidth=2.5)\n",
    "plt.title('Global CO2 Emissions from Fossil Fuels and Land Use Over Time')\n",
    "plt.xlabel('Year')\n",
    "plt.ylabel('CO2 Emissions (million tonnes)')\n",
    "plt.legend()\n",
    "plt.grid(True,color='grey')\n",
    "plt.gca().set_facecolor('k')\n",
    "plt.show()"
   ]
  },
  {
   "cell_type": "code",
   "execution_count": 50,
   "id": "b728b894-8aae-49fd-b787-999d7cfa1fcf",
   "metadata": {
    "tags": []
   },
   "outputs": [
    {
     "data": {
      "text/html": [
       "<style>\n",
       "    .lightblue {\n",
       "        background-color: #4AB3F4; /* Lighter shade of blue */\n",
       "        padding: 5px;\n",
       "        color: black; /* Blue text */\n",
       "        font-size: 15px; /* Reduced font size */\n",
       "    }\n",
       "    .highlight {\n",
       "        background-color: yellow; /* Yellow background */\n",
       "        font-weight: bold; /* Bold text */\n",
       "    }\n",
       "</style>\n",
       "\n",
       "<div class=\"lightblue\" style=\"font-size: 15px; color: blue;\">\n",
       "    <span class='highlight'>Modeling</span>\n",
       "</div>\n"
      ],
      "text/plain": [
       "<IPython.core.display.HTML object>"
      ]
     },
     "metadata": {},
     "output_type": "display_data"
    }
   ],
   "source": [
    "%%html\n",
    "<style>\n",
    "    .lightblue {\n",
    "        background-color: #4AB3F4; /* Lighter shade of blue */\n",
    "        padding: 5px;\n",
    "        color: black; /* Blue text */\n",
    "        font-size: 15px; /* Reduced font size */\n",
    "    }\n",
    "    .highlight {\n",
    "        background-color: yellow; /* Yellow background */\n",
    "        font-weight: bold; /* Bold text */\n",
    "    }\n",
    "</style>\n",
    "\n",
    "<div class=\"lightblue\" style=\"font-size: 15px; color: blue;\">\n",
    "    <span class='highlight'>Modeling</span>\n",
    "</div>"
   ]
  },
  {
   "cell_type": "markdown",
   "id": "703ef99e-0dd1-47be-a487-074304a96cbc",
   "metadata": {},
   "source": [
    "## preprocessing"
   ]
  },
  {
   "cell_type": "code",
   "execution_count": 63,
   "id": "4278e4db-5cae-4387-a880-fec61ff03906",
   "metadata": {
    "scrolled": true,
    "tags": []
   },
   "outputs": [
    {
     "data": {
      "text/plain": [
       "['population',\n",
       " 'gdp',\n",
       " 'cement_co2',\n",
       " 'cement_co2_per_capita',\n",
       " 'co2',\n",
       " 'co2_growth_abs',\n",
       " 'co2_growth_prct',\n",
       " 'co2_including_luc',\n",
       " 'co2_including_luc_growth_abs',\n",
       " 'co2_including_luc_growth_prct',\n",
       " 'co2_including_luc_per_capita',\n",
       " 'co2_including_luc_per_gdp',\n",
       " 'co2_including_luc_per_unit_energy',\n",
       " 'co2_per_capita',\n",
       " 'co2_per_gdp',\n",
       " 'co2_per_unit_energy',\n",
       " 'coal_co2',\n",
       " 'coal_co2_per_capita',\n",
       " 'consumption_co2',\n",
       " 'consumption_co2_per_capita',\n",
       " 'consumption_co2_per_gdp',\n",
       " 'cumulative_cement_co2',\n",
       " 'cumulative_co2',\n",
       " 'cumulative_co2_including_luc',\n",
       " 'cumulative_coal_co2',\n",
       " 'cumulative_flaring_co2',\n",
       " 'cumulative_gas_co2',\n",
       " 'cumulative_luc_co2',\n",
       " 'cumulative_oil_co2',\n",
       " 'cumulative_other_co2',\n",
       " 'energy_per_capita',\n",
       " 'energy_per_gdp',\n",
       " 'flaring_co2',\n",
       " 'flaring_co2_per_capita',\n",
       " 'gas_co2',\n",
       " 'gas_co2_per_capita',\n",
       " 'ghg_excluding_lucf_per_capita',\n",
       " 'ghg_per_capita',\n",
       " 'land_use_change_co2',\n",
       " 'land_use_change_co2_per_capita',\n",
       " 'methane',\n",
       " 'methane_per_capita',\n",
       " 'nitrous_oxide',\n",
       " 'nitrous_oxide_per_capita',\n",
       " 'oil_co2',\n",
       " 'oil_co2_per_capita',\n",
       " 'other_co2_per_capita',\n",
       " 'other_industry_co2',\n",
       " 'primary_energy_consumption',\n",
       " 'share_global_cement_co2',\n",
       " 'share_global_co2',\n",
       " 'share_global_co2_including_luc',\n",
       " 'share_global_coal_co2',\n",
       " 'share_global_cumulative_cement_co2',\n",
       " 'share_global_cumulative_co2',\n",
       " 'share_global_cumulative_co2_including_luc',\n",
       " 'share_global_cumulative_coal_co2',\n",
       " 'share_global_cumulative_flaring_co2',\n",
       " 'share_global_cumulative_gas_co2',\n",
       " 'share_global_cumulative_luc_co2',\n",
       " 'share_global_cumulative_oil_co2',\n",
       " 'share_global_cumulative_other_co2',\n",
       " 'share_global_flaring_co2',\n",
       " 'share_global_gas_co2',\n",
       " 'share_global_luc_co2',\n",
       " 'share_global_oil_co2',\n",
       " 'share_global_other_co2',\n",
       " 'share_of_temperature_change_from_ghg',\n",
       " 'temperature_change_from_ch4',\n",
       " 'temperature_change_from_co2',\n",
       " 'temperature_change_from_ghg',\n",
       " 'temperature_change_from_n2o',\n",
       " 'total_ghg',\n",
       " 'total_ghg_excluding_lucf',\n",
       " 'trade_co2',\n",
       " 'trade_co2_share']"
      ]
     },
     "execution_count": 63,
     "metadata": {},
     "output_type": "execute_result"
    }
   ],
   "source": [
    "numerical_features = df.select_dtypes(include=['float64', 'int64']).columns.tolist()\n",
    "numerical_features"
   ]
  },
  {
   "cell_type": "code",
   "execution_count": 61,
   "id": "65873e37-14ea-4654-bcb7-f760929d649e",
   "metadata": {
    "tags": []
   },
   "outputs": [],
   "source": [
    "df.drop(columns=['country'], inplace=True)\n",
    "mean_values = df.drop(columns=['year']).mean()\n",
    "df.fillna(mean_values, inplace=True)"
   ]
  },
  {
   "cell_type": "code",
   "execution_count": 62,
   "id": "8de61e1f-73d0-4014-830a-d4aa0589c45c",
   "metadata": {
    "tags": []
   },
   "outputs": [
    {
     "name": "stdout",
     "output_type": "stream",
     "text": [
      "year                           0\n",
      "population                     0\n",
      "gdp                            0\n",
      "cement_co2                     0\n",
      "cement_co2_per_capita          0\n",
      "                              ..\n",
      "temperature_change_from_n2o    0\n",
      "total_ghg                      0\n",
      "total_ghg_excluding_lucf       0\n",
      "trade_co2                      0\n",
      "trade_co2_share                0\n",
      "Length: 77, dtype: int64\n"
     ]
    }
   ],
   "source": [
    "missing_values = df.isnull().sum()\n",
    "print(missing_values)\n",
    "df.fillna(df.mean(), inplace=True)"
   ]
  },
  {
   "cell_type": "code",
   "execution_count": 65,
   "id": "70963075-10fa-4ba5-8b08-0868d49253c1",
   "metadata": {
    "tags": []
   },
   "outputs": [],
   "source": [
    "from sklearn.preprocessing import MinMaxScaler\n",
    "\n",
    "scaler = MinMaxScaler()\n",
    "df[numerical_features] = scaler.fit_transform(df[numerical_features])"
   ]
  },
  {
   "cell_type": "markdown",
   "id": "4a0df576-6400-4c82-bfe9-723a6c21a91b",
   "metadata": {},
   "source": [
    "## Feature Selection"
   ]
  },
  {
   "cell_type": "code",
   "execution_count": 79,
   "id": "8986753a-9390-49ce-8687-56d78be224f0",
   "metadata": {
    "scrolled": true,
    "tags": []
   },
   "outputs": [
    {
     "data": {
      "text/plain": [
       "population                                   0.841233\n",
       "cement_co2                                   0.887528\n",
       "co2                                          1.000000\n",
       "co2_growth_abs                               0.508592\n",
       "co2_including_luc                            0.974960\n",
       "coal_co2                                     0.961031\n",
       "consumption_co2                              0.829575\n",
       "cumulative_cement_co2                        0.916862\n",
       "cumulative_co2                               0.951624\n",
       "cumulative_co2_including_luc                 0.967068\n",
       "cumulative_coal_co2                          0.947689\n",
       "cumulative_flaring_co2                       0.897213\n",
       "cumulative_gas_co2                           0.862806\n",
       "cumulative_luc_co2                           0.861101\n",
       "cumulative_oil_co2                           0.916133\n",
       "cumulative_other_co2                         0.766316\n",
       "flaring_co2                                  0.869596\n",
       "gas_co2                                      0.946545\n",
       "land_use_change_co2                          0.546993\n",
       "methane                                      0.767905\n",
       "nitrous_oxide                                0.775872\n",
       "oil_co2                                      0.967204\n",
       "other_industry_co2                           0.781908\n",
       "primary_energy_consumption                   0.958006\n",
       "share_global_cement_co2                      0.608753\n",
       "share_global_co2_including_luc               0.639679\n",
       "share_global_cumulative_cement_co2           0.613256\n",
       "share_global_cumulative_co2_including_luc    0.650321\n",
       "share_global_cumulative_flaring_co2          0.793517\n",
       "share_global_cumulative_gas_co2              0.587130\n",
       "share_global_cumulative_luc_co2              0.594443\n",
       "share_global_cumulative_oil_co2              0.589179\n",
       "share_global_cumulative_other_co2            0.507954\n",
       "share_global_flaring_co2                     0.790942\n",
       "share_global_gas_co2                         0.598369\n",
       "share_global_oil_co2                         0.593898\n",
       "share_of_temperature_change_from_ghg         0.645721\n",
       "temperature_change_from_ch4                  0.954260\n",
       "temperature_change_from_co2                  0.967101\n",
       "temperature_change_from_ghg                  0.972235\n",
       "temperature_change_from_n2o                  0.961698\n",
       "total_ghg                                    0.803759\n",
       "total_ghg_excluding_lucf                     0.808412\n",
       "Name: co2, dtype: float64"
      ]
     },
     "execution_count": 79,
     "metadata": {},
     "output_type": "execute_result"
    }
   ],
   "source": [
    "def select_related_features(df, target_variable, threshold=0.5):\n",
    "    corelation_matrix = df.corr()\n",
    "    target_correlation = corelation_matrix[target_variable]\n",
    "    selected_features = target_correlation[target_correlation.abs() > threshold]\n",
    "    return selected_features\n",
    "\n",
    "target_variable = 'co2'\n",
    "selected_features = select_related_features(df, target_variable)\n",
    "selected_features"
   ]
  },
  {
   "cell_type": "code",
   "execution_count": 84,
   "id": "388a923c-8df9-4835-bdba-aba65d23ca4d",
   "metadata": {
    "tags": []
   },
   "outputs": [
    {
     "data": {
      "text/plain": [
       "(25780, 43)"
      ]
     },
     "execution_count": 84,
     "metadata": {},
     "output_type": "execute_result"
    }
   ],
   "source": [
    "selected_features = [\n",
    "    'population', 'cement_co2', 'co2', 'co2_growth_abs', 'co2_including_luc', 'coal_co2',\n",
    "    'consumption_co2', 'cumulative_cement_co2', 'cumulative_co2', 'cumulative_co2_including_luc',\n",
    "    'cumulative_coal_co2', 'cumulative_flaring_co2', 'cumulative_gas_co2', 'cumulative_luc_co2',\n",
    "    'cumulative_oil_co2', 'cumulative_other_co2', 'flaring_co2', 'gas_co2', 'land_use_change_co2',\n",
    "    'methane', 'nitrous_oxide', 'oil_co2', 'other_industry_co2', 'primary_energy_consumption',\n",
    "    'share_global_cement_co2', 'share_global_co2_including_luc', 'share_global_cumulative_cement_co2',\n",
    "    'share_global_cumulative_co2_including_luc', 'share_global_cumulative_flaring_co2',\n",
    "    'share_global_cumulative_gas_co2', 'share_global_cumulative_luc_co2', 'share_global_cumulative_oil_co2',\n",
    "    'share_global_cumulative_other_co2', 'share_global_flaring_co2', 'share_global_gas_co2',\n",
    "    'share_global_oil_co2', 'share_of_temperature_change_from_ghg', 'temperature_change_from_ch4',\n",
    "    'temperature_change_from_co2', 'temperature_change_from_ghg', 'temperature_change_from_n2o',\n",
    "    'total_ghg', 'total_ghg_excluding_lucf'\n",
    "]\n",
    "\n",
    "selected_df = df[selected_features]\n",
    "selected_df.shape"
   ]
  },
  {
   "cell_type": "code",
   "execution_count": null,
   "id": "8a332119-7479-4967-8c61-4f6ae6d51ced",
   "metadata": {},
   "outputs": [],
   "source": [
    "selected_df"
   ]
  },
  {
   "cell_type": "markdown",
   "id": "8631d32b-e216-41a6-a411-5f5b175bd6d7",
   "metadata": {},
   "source": [
    "## Spliting Data into Train & Test"
   ]
  },
  {
   "cell_type": "code",
   "execution_count": 87,
   "id": "997f8860-5b88-4de9-8f92-853becf2eae9",
   "metadata": {
    "tags": []
   },
   "outputs": [],
   "source": [
    "from sklearn.model_selection import train_test_split\n",
    "\n",
    "X = selected_df.drop(columns=['co2'])\n",
    "y = selected_df['co2']\n",
    "X_train, X_test, y_train, y_test = train_test_split(X, y, test_size=0.2, random_state=42)"
   ]
  },
  {
   "cell_type": "markdown",
   "id": "387068bf-c07b-4175-8b76-51b948cb3999",
   "metadata": {
    "tags": []
   },
   "source": [
    "## Modeling Data"
   ]
  },
  {
   "cell_type": "code",
   "execution_count": 90,
   "id": "bd9edebf-e309-4774-a460-3367656c80fd",
   "metadata": {
    "tags": []
   },
   "outputs": [
    {
     "name": "stdout",
     "output_type": "stream",
     "text": [
      "rmse:  0.0011377949248291047\n",
      "MAE: 0.00016613429621217932\n",
      "r2: 0.999418229336964\n"
     ]
    }
   ],
   "source": [
    "from sklearn.ensemble import RandomForestRegressor\n",
    "from sklearn.metrics import mean_squared_error, mean_absolute_error, r2_score\n",
    "\n",
    "rfr = RandomForestRegressor(n_estimators=100, random_state=42)\n",
    "rfr.fit(X_train, y_train)\n",
    "\n",
    "rfr_pred = rfr.predict(X_test)\n",
    "rmse = mean_squared_error(y_test, rfr_pred, squared=False)\n",
    "mae = mean_absolute_error(y_test, rfr_pred)\n",
    "r2 = r2_score(y_test, rfr_pred)\n",
    "print('rmse: ', rmse)\n",
    "print(\"MAE:\", mae)\n",
    "print('r2:' , r2)"
   ]
  },
  {
   "cell_type": "code",
   "execution_count": 92,
   "id": "477a4a74-5dd0-4337-9294-aae02aa09665",
   "metadata": {
    "tags": []
   },
   "outputs": [],
   "source": [
    "rfr_results = pd.DataFrame({'Actual': y_test, 'Predicted': rfr_pred})\n",
    "rfr_results.to_csv('RandomForestRegressor_predicted_VS_actual.csv', index=False)"
   ]
  },
  {
   "cell_type": "code",
   "execution_count": 102,
   "id": "70415b65-b1c2-4f92-8335-e434b31446b7",
   "metadata": {
    "tags": []
   },
   "outputs": [
    {
     "data": {
      "image/png": "[encoded data removed]",
      "text/plain": [
       "<Figure size 1000x600 with 1 Axes>"
      ]
     },
     "metadata": {},
     "output_type": "display_data"
    }
   ],
   "source": [
    "sns.set_style(\"darkgrid\")\n",
    "\n",
    "plt.figure(figsize=(10,6))\n",
    "sns.scatterplot(x='Actual', y='Predicted', data=rfr_results, c='red')\n",
    "plt.title(\"Actual Vs Predicted CO2 Emissions\")\n",
    "plt.xlabel(\"Actual CO2 Emission\")\n",
    "plt.ylabel(\"Predicted CO2 Emissions\")\n",
    "plt.grid(True, linestyle='--', alpha=0.5, color='grey')\n",
    "plt.show()"
   ]
  },
  {
   "cell_type": "code",
   "execution_count": 121,
   "id": "c7e5a76d-1d3f-46fd-846e-156d0dfce8e1",
   "metadata": {
    "tags": []
   },
   "outputs": [
    {
     "name": "stdout",
     "output_type": "stream",
     "text": [
      "Elastic Net RMSE: 0.04717782716996805\n",
      "Elastic Net MAE: 0.012851163981554578\n",
      "Elastic Net r2: -0.00022960081283884826\n"
     ]
    }
   ],
   "source": [
    "from sklearn.linear_model import ElasticNet\n",
    "from sklearn.metrics import mean_squared_error, mean_absolute_error, r2_score\n",
    "\n",
    "enet = ElasticNet(alpha=0.1, l1_ratio=0.5, random_state=42)\n",
    "enet.fit(X_train, y_train)\n",
    "enet_pred = enet.predict(X_test)\n",
    "\n",
    "rmse = mean_squared_error(y_test, enet_pred, squared=False)\n",
    "mae = mean_absolute_error(y_test, enet_pred)\n",
    "r2 = r2_score(y_test, enet_pred)\n",
    "\n",
    "print(\"Elastic Net RMSE:\", rmse)\n",
    "print(\"Elastic Net MAE:\", mae)\n",
    "print(\"Elastic Net r2:\", r2)"
   ]
  },
  {
   "cell_type": "markdown",
   "id": "4b437d74-b1a5-49b8-b9b7-2c6b50ad8e1d",
   "metadata": {},
   "source": [
    "## Tunnning ElasticNet"
   ]
  },
  {
   "cell_type": "code",
   "execution_count": 125,
   "id": "1da32b5f-ae2d-4a37-8d82-1aae9ac8d4b0",
   "metadata": {
    "tags": []
   },
   "outputs": [
    {
     "name": "stdout",
     "output_type": "stream",
     "text": [
      "Best Parameters: {'alpha': 0.001, 'l1_ratio': 0.05}\n",
      "Elastic Net RMSE: 0.0058804921880001365\n",
      "Elastic Net MAE: 0.0027697424207794984\n",
      "Elastic Net R-squared: 0.9844599938079227\n"
     ]
    }
   ],
   "source": [
    "from sklearn.model_selection import GridSearchCV\n",
    "\n",
    "enet = ElasticNet()\n",
    "param_grid = {\n",
    "    'alpha': [0.1, 0.001, 10.0],\n",
    "    'l1_ratio': [0.1, 0.05, 0.9]\n",
    "}\n",
    "grid_search = GridSearchCV(estimator=enet, param_grid=param_grid, cv=10, scoring='neg_mean_squared_error')\n",
    "grid_search.fit(X_train, y_train)\n",
    "\n",
    "best_params = grid_search.best_params_\n",
    "best_model = grid_search.best_estimator_\n",
    "enet_pred = best_model.predict(X_test)\n",
    "\n",
    "rmse = mean_squared_error(y_test, enet_pred, squared=False)\n",
    "mae = mean_absolute_error(y_test, enet_pred)\n",
    "r2 = r2_score(y_test, enet_pred)\n",
    "\n",
    "print(\"Best Parameters:\", best_params)\n",
    "print(\"Elastic Net RMSE:\", rmse)\n",
    "print(\"Elastic Net MAE:\", mae)\n",
    "print(\"Elastic Net R-squared:\", r2)"
   ]
  },
  {
   "cell_type": "code",
   "execution_count": 126,
   "id": "2041ca04-648a-4cd2-844f-814dc9e1723f",
   "metadata": {
    "tags": []
   },
   "outputs": [],
   "source": [
    "enet_results = pd.DataFrame({'Actual': y_test, 'Predicted': enet_pred})\n",
    "enet_results.to_csv('ElasticNet_predicted_VS_actual.csv', index=False)"
   ]
  },
  {
   "cell_type": "code",
   "execution_count": 134,
   "id": "c70d008a-732e-4220-a7ca-86950eb12e72",
   "metadata": {
    "tags": []
   },
   "outputs": [
    {
     "data": {
      "image/png": "[encoded data removed]",
      "text/plain": [
       "<Figure size 1000x600 with 1 Axes>"
      ]
     },
     "metadata": {},
     "output_type": "display_data"
    }
   ],
   "source": [
    "plt.figure(figsize=(10, 6))\n",
    "sns.scatterplot(x='Actual', y='Predicted', data=enet_results, color='blue')\n",
    "plt.title('Actual vs. Predicted CO2 Emissions for Elastic Net')\n",
    "plt.xlabel('Actual CO2 Emissions')\n",
    "plt.ylabel('Predicted CO2 Emissions')\n",
    "plt.grid(True)\n",
    "plt.show()"
   ]
  },
  {
   "cell_type": "code",
   "execution_count": 135,
   "id": "6bc87745-35b6-41ba-914d-9a74707ceda3",
   "metadata": {
    "tags": []
   },
   "outputs": [
    {
     "name": "stdout",
     "output_type": "stream",
     "text": [
      "RANSAC - RMSE: 0.0004286589779371395\n",
      "RANSAC - MAE: 7.700158081409241e-05\n",
      "RANSAC - R-squared: 0.9999174251713749\n"
     ]
    }
   ],
   "source": [
    "from sklearn.linear_model import RANSACRegressor\n",
    "\n",
    "ransac_model = RANSACRegressor(random_state=42)\n",
    "ransac_model.fit(X_train, y_train)\n",
    "ransac_pred = ransac_model.predict(X_test)\n",
    "\n",
    "rmse_ransac = mean_squared_error(y_test, ransac_pred, squared=False)\n",
    "mae_ransac = mean_absolute_error(y_test, ransac_pred)\n",
    "r2_ransac = r2_score(y_test, ransac_pred)\n",
    "\n",
    "print(\"RANSAC - RMSE:\", rmse_ransac)\n",
    "print(\"RANSAC - MAE:\", mae_ransac)\n",
    "print(\"RANSAC - R-squared:\", r2_ransac)"
   ]
  },
  {
   "cell_type": "code",
   "execution_count": 138,
   "id": "fc050cab-6dfd-4942-a677-7314e994e35d",
   "metadata": {
    "tags": []
   },
   "outputs": [],
   "source": [
    "ransac_results = pd.DataFrame({'Actual': y_test, 'Predicted': ransac_pred})\n",
    "ransac_results.to_csv('RANSACRegressor_predicted_VS_actual.csv', index=False)"
   ]
  },
  {
   "cell_type": "code",
   "execution_count": 148,
   "id": "74e9c9e7-4225-4801-bdc2-091c4e6202b9",
   "metadata": {
    "tags": []
   },
   "outputs": [
    {
     "data": {
      "image/png": "[encoded data removed]",
      "text/plain": [
       "<Figure size 1000x600 with 1 Axes>"
      ]
     },
     "metadata": {},
     "output_type": "display_data"
    }
   ],
   "source": [
    "plt.figure(figsize=(10, 6))\n",
    "sns.scatterplot(x='Actual', y='Predicted', data=ransac_results, color=\"green\", label=\"Test Data\")\n",
    "\n",
    "plt.legend(loc=\"lower right\")\n",
    "plt.xlabel(\"Actual\")\n",
    "plt.ylabel(\"Predicted\")\n",
    "plt.title(\"RANSAC Regressor Predictions Vs Actual\")\n",
    "plt.grid(True)\n",
    "plt.show()"
   ]
  },
  {
   "cell_type": "markdown",
   "id": "cda2c191-d08c-4861-b588-a1b3e2c122cb",
   "metadata": {},
   "source": [
    "## Nueral Network "
   ]
  },
  {
   "cell_type": "code",
   "execution_count": 153,
   "id": "0a4a3830-3874-408d-94d2-dc31b2d2950e",
   "metadata": {
    "scrolled": true,
    "tags": []
   },
   "outputs": [
    {
     "name": "stdout",
     "output_type": "stream",
     "text": [
      "Epoch 1/20\n",
      "516/516 [==============================] - 3s 3ms/step - loss: 8.4491e-04 - mae: 0.0077 - mse: 8.4491e-04 - val_loss: 6.7036e-05 - val_mae: 0.0022 - val_mse: 6.7036e-05\n",
      "Epoch 2/20\n",
      "516/516 [==============================] - 1s 2ms/step - loss: 4.6076e-05 - mae: 0.0023 - mse: 4.6076e-05 - val_loss: 2.4657e-05 - val_mae: 0.0014 - val_mse: 2.4657e-05\n",
      "Epoch 3/20\n",
      "516/516 [==============================] - 1s 2ms/step - loss: 2.5131e-05 - mae: 0.0018 - mse: 2.5131e-05 - val_loss: 1.8690e-05 - val_mae: 0.0018 - val_mse: 1.8690e-05\n",
      "Epoch 4/20\n",
      "516/516 [==============================] - 1s 2ms/step - loss: 1.6274e-05 - mae: 0.0018 - mse: 1.6274e-05 - val_loss: 3.2522e-05 - val_mae: 0.0048 - val_mse: 3.2522e-05\n",
      "Epoch 5/20\n",
      "516/516 [==============================] - 1s 2ms/step - loss: 1.2100e-05 - mae: 0.0017 - mse: 1.2100e-05 - val_loss: 2.2607e-05 - val_mae: 0.0022 - val_mse: 2.2607e-05\n",
      "Epoch 6/20\n",
      "516/516 [==============================] - 1s 2ms/step - loss: 8.9256e-06 - mae: 0.0014 - mse: 8.9256e-06 - val_loss: 6.2808e-06 - val_mae: 0.0016 - val_mse: 6.2808e-06\n",
      "Epoch 7/20\n",
      "516/516 [==============================] - 1s 2ms/step - loss: 7.5801e-06 - mae: 0.0016 - mse: 7.5801e-06 - val_loss: 6.2780e-06 - val_mae: 9.0663e-04 - val_mse: 6.2780e-06\n",
      "Epoch 8/20\n",
      "516/516 [==============================] - 1s 2ms/step - loss: 1.0543e-05 - mae: 0.0018 - mse: 1.0543e-05 - val_loss: 5.9450e-06 - val_mae: 0.0017 - val_mse: 5.9450e-06\n",
      "Epoch 9/20\n",
      "516/516 [==============================] - 1s 2ms/step - loss: 1.1154e-05 - mae: 0.0019 - mse: 1.1154e-05 - val_loss: 2.3160e-05 - val_mae: 0.0021 - val_mse: 2.3160e-05\n",
      "Epoch 10/20\n",
      "516/516 [==============================] - 1s 2ms/step - loss: 1.0438e-05 - mae: 0.0016 - mse: 1.0438e-05 - val_loss: 2.9712e-05 - val_mae: 0.0020 - val_mse: 2.9712e-05\n",
      "Epoch 11/20\n",
      "516/516 [==============================] - 1s 2ms/step - loss: 1.3918e-05 - mae: 0.0019 - mse: 1.3918e-05 - val_loss: 8.1678e-05 - val_mae: 0.0074 - val_mse: 8.1678e-05\n",
      "Epoch 12/20\n",
      "516/516 [==============================] - 1s 2ms/step - loss: 8.4024e-06 - mae: 0.0016 - mse: 8.4024e-06 - val_loss: 3.3684e-06 - val_mae: 8.8379e-04 - val_mse: 3.3684e-06\n",
      "Epoch 13/20\n",
      "516/516 [==============================] - 1s 2ms/step - loss: 5.7432e-06 - mae: 0.0014 - mse: 5.7432e-06 - val_loss: 2.1262e-05 - val_mae: 0.0023 - val_mse: 2.1262e-05\n",
      "Epoch 14/20\n",
      "516/516 [==============================] - 1s 2ms/step - loss: 1.1959e-05 - mae: 0.0016 - mse: 1.1959e-05 - val_loss: 4.8717e-06 - val_mae: 7.8167e-04 - val_mse: 4.8717e-06\n",
      "Epoch 15/20\n",
      "516/516 [==============================] - 1s 2ms/step - loss: 5.5751e-06 - mae: 0.0014 - mse: 5.5751e-06 - val_loss: 3.2594e-06 - val_mae: 7.3947e-04 - val_mse: 3.2594e-06\n",
      "Epoch 16/20\n",
      "516/516 [==============================] - 1s 2ms/step - loss: 4.9993e-06 - mae: 0.0013 - mse: 4.9993e-06 - val_loss: 2.1755e-06 - val_mae: 8.7985e-04 - val_mse: 2.1755e-06\n",
      "Epoch 17/20\n",
      "516/516 [==============================] - 1s 2ms/step - loss: 7.7349e-06 - mae: 0.0014 - mse: 7.7349e-06 - val_loss: 5.3414e-06 - val_mae: 0.0019 - val_mse: 5.3414e-06\n",
      "Epoch 18/20\n",
      "516/516 [==============================] - 1s 2ms/step - loss: 4.6070e-06 - mae: 0.0012 - mse: 4.6070e-06 - val_loss: 1.6300e-06 - val_mae: 6.5404e-04 - val_mse: 1.6300e-06\n",
      "Epoch 19/20\n",
      "516/516 [==============================] - 1s 2ms/step - loss: 5.8120e-06 - mae: 0.0013 - mse: 5.8120e-06 - val_loss: 6.0049e-06 - val_mae: 0.0018 - val_mse: 6.0049e-06\n",
      "Epoch 20/20\n",
      "516/516 [==============================] - 1s 2ms/step - loss: 5.4903e-06 - mae: 0.0013 - mse: 5.4903e-06 - val_loss: 6.7795e-06 - val_mae: 8.2001e-04 - val_mse: 6.7795e-06\n",
      "Neural Network - Loss: 6.558020231750561e-06\n",
      "Neural Network - MAE: 0.0008407187415286899\n",
      "Neural Network - MSE: 6.558020231750561e-06\n"
     ]
    }
   ],
   "source": [
    "import tensorflow as tf\n",
    "from tensorflow.keras.models import Sequential\n",
    "from tensorflow.keras.layers import Dense\n",
    "\n",
    "model = Sequential([\n",
    "    Dense(64, activation='relu', input_shape=(X_train.shape[1],)),\n",
    "    Dense(32, activation='relu'),\n",
    "    Dense(16, activation='sigmoid'),\n",
    "    Dense(8, activation='relu'),\n",
    "    Dense(4, activation='relu'),\n",
    "    Dense(1)\n",
    "])\n",
    "\n",
    "model.compile(optimizer='adam', loss='mse', metrics=['mae', 'mse'])\n",
    "history = model.fit(X_train, y_train, epochs=20, batch_size=32, validation_split=0.2, verbose=1)\n",
    "loss, mae, mse = model.evaluate(X_test, y_test, verbose=0)\n",
    "print(\"Neural Network - Loss:\", loss)\n",
    "print(\"Neural Network - MAE:\", mae)\n",
    "print(\"Neural Network - MSE:\", mse)"
   ]
  },
  {
   "cell_type": "code",
   "execution_count": 159,
   "id": "f3c9eff3-4f85-4da4-aae0-a047cd4e5906",
   "metadata": {
    "scrolled": true,
    "tags": []
   },
   "outputs": [
    {
     "name": "stdout",
     "output_type": "stream",
     "text": [
      "Epoch 1/20\n",
      "258/258 [==============================] - 2s 4ms/step - loss: 0.0419 - mae: 0.0432 - val_loss: 4.3254e-04 - val_mae: 0.0052\n",
      "Epoch 2/20\n",
      "258/258 [==============================] - 1s 3ms/step - loss: 0.0054 - mae: 0.0155 - val_loss: 7.4226e-04 - val_mae: 0.0052\n",
      "Epoch 3/20\n",
      "258/258 [==============================] - 1s 3ms/step - loss: 0.0022 - mae: 0.0099 - val_loss: 6.4814e-04 - val_mae: 0.0057\n",
      "Epoch 4/20\n",
      "258/258 [==============================] - 1s 3ms/step - loss: 0.0012 - mae: 0.0079 - val_loss: 3.0898e-04 - val_mae: 0.0037\n",
      "Epoch 5/20\n",
      "258/258 [==============================] - 1s 3ms/step - loss: 9.7233e-04 - mae: 0.0068 - val_loss: 4.9152e-04 - val_mae: 0.0043\n",
      "Epoch 6/20\n",
      "258/258 [==============================] - 1s 3ms/step - loss: 0.0014 - mae: 0.0068 - val_loss: 2.9844e-04 - val_mae: 0.0037\n",
      "Epoch 7/20\n",
      "258/258 [==============================] - 1s 3ms/step - loss: 8.5092e-04 - mae: 0.0058 - val_loss: 2.7044e-04 - val_mae: 0.0037\n",
      "Epoch 8/20\n",
      "258/258 [==============================] - 1s 3ms/step - loss: 5.7448e-04 - mae: 0.0054 - val_loss: 1.6567e-04 - val_mae: 0.0042\n",
      "Epoch 9/20\n",
      "258/258 [==============================] - 1s 3ms/step - loss: 7.1172e-04 - mae: 0.0056 - val_loss: 1.8759e-04 - val_mae: 0.0051\n",
      "Epoch 10/20\n",
      "258/258 [==============================] - 1s 3ms/step - loss: 7.6469e-04 - mae: 0.0058 - val_loss: 9.4594e-05 - val_mae: 0.0029\n",
      "Epoch 11/20\n",
      "258/258 [==============================] - 1s 3ms/step - loss: 7.9323e-04 - mae: 0.0059 - val_loss: 5.7347e-04 - val_mae: 0.0058\n",
      "Epoch 12/20\n",
      "258/258 [==============================] - 1s 3ms/step - loss: 6.2239e-04 - mae: 0.0060 - val_loss: 2.2392e-04 - val_mae: 0.0062\n",
      "Epoch 13/20\n",
      "258/258 [==============================] - 1s 3ms/step - loss: 7.5435e-04 - mae: 0.0055 - val_loss: 4.1879e-04 - val_mae: 0.0044\n",
      "Epoch 14/20\n",
      "258/258 [==============================] - 1s 3ms/step - loss: 5.9251e-04 - mae: 0.0052 - val_loss: 4.4673e-04 - val_mae: 0.0043\n",
      "Epoch 15/20\n",
      "258/258 [==============================] - 1s 3ms/step - loss: 5.2968e-04 - mae: 0.0051 - val_loss: 5.2641e-04 - val_mae: 0.0047\n",
      "Epoch 16/20\n",
      "258/258 [==============================] - 1s 3ms/step - loss: 4.4693e-04 - mae: 0.0050 - val_loss: 3.6603e-04 - val_mae: 0.0038\n",
      "Epoch 17/20\n",
      "258/258 [==============================] - 1s 3ms/step - loss: 5.6972e-04 - mae: 0.0055 - val_loss: 7.1216e-04 - val_mae: 0.0069\n",
      "Epoch 18/20\n",
      "258/258 [==============================] - 1s 3ms/step - loss: 6.2989e-04 - mae: 0.0053 - val_loss: 5.1701e-04 - val_mae: 0.0045\n",
      "Epoch 19/20\n",
      "258/258 [==============================] - 1s 3ms/step - loss: 3.2220e-04 - mae: 0.0045 - val_loss: 2.3388e-04 - val_mae: 0.0042\n",
      "Epoch 20/20\n",
      "258/258 [==============================] - 1s 3ms/step - loss: 4.9066e-04 - mae: 0.0049 - val_loss: 2.9494e-04 - val_mae: 0.0035\n",
      "Neural Network - Loss: 0.0003052165557164699\n",
      "Neural Network - MAE: 0.0035986423026770353\n",
      "162/162 [==============================] - 0s 1ms/step\n",
      "Neural Network - RMSE: 0.017470445459524385\n",
      "INFO:tensorflow:Assets written to: neural_network_model\\assets\n"
     ]
    },
    {
     "name": "stderr",
     "output_type": "stream",
     "text": [
      "INFO:tensorflow:Assets written to: neural_network_model\\assets\n"
     ]
    }
   ],
   "source": [
    "from tensorflow.keras.models import Sequential\n",
    "from tensorflow.keras.layers import Dense, Dropout\n",
    "from sklearn.preprocessing import StandardScaler\n",
    "\n",
    "X_train, X_test, y_train, y_test = train_test_split(X, y, test_size=0.2, random_state=42)\n",
    "\n",
    "scaler = StandardScaler()\n",
    "X_train = scaler.fit_transform(X_train)\n",
    "X_test = scaler.transform(X_test)\n",
    "\n",
    "model = Sequential([\n",
    "    Dense(128, activation='relu', input_shape=(X_train.shape[1],)),\n",
    "    Dropout(0.3),  \n",
    "    Dense(64, activation='relu'),\n",
    "    Dropout(0.3),\n",
    "    Dense(32, activation='relu'),\n",
    "    Dropout(0.3),\n",
    "    Dense(1)  \n",
    "])\n",
    "\n",
    "model.compile(optimizer='adam', loss='mse', metrics=['mae'])\n",
    "history = model.fit(X_train, y_train, epochs=20, batch_size=64, validation_split=0.2, verbose=1)\n",
    "\n",
    "loss, mae = model.evaluate(X_test, y_test, verbose=0)\n",
    "print(\"Neural Network - Loss:\", loss)\n",
    "print(\"Neural Network - MAE:\", mae)\n",
    "\n",
    "y_pred = model.predict(X_test)\n",
    "rmse = mean_squared_error(y_test, y_pred, squared=False)\n",
    "print(\"Neural Network - RMSE:\", rmse)\n",
    "\n",
    "model.save(\"neural_network_model\")\n",
    "results = pd.DataFrame({'Actual': y_test, 'Predicted': y_pred.flatten()})\n",
    "results.to_csv('neural_network_predictions.csv', index=False)"
   ]
  },
  {
   "cell_type": "code",
   "execution_count": 158,
   "id": "c8a16bb5-f57d-465f-a4b0-4eb18b991779",
   "metadata": {
    "tags": []
   },
   "outputs": [
    {
     "data": {
      "image/png": "[encoded data removed]",
      "text/plain": [
       "<Figure size 640x480 with 1 Axes>"
      ]
     },
     "metadata": {},
     "output_type": "display_data"
    }
   ],
   "source": [
    "training_loss = history.history['loss']\n",
    "validation_loss = history.history['val_loss']\n",
    "epochs = range(1, len(training_loss) + 1)\n",
    "\n",
    "plt.plot(epochs, training_loss, 'b*', label='Training Loss')\n",
    "plt.plot(epochs, validation_loss, 'b', label='Validation Loss')\n",
    "plt.title('Training and Validation Loss')\n",
    "plt.xlabel('Epochs')\n",
    "plt.ylabel('Loss')\n",
    "plt.legend()\n",
    "plt.show()"
   ]
  },
  {
   "cell_type": "code",
   "execution_count": null,
   "id": "b74280ed-97a1-4137-8436-bc338179b59f",
   "metadata": {},
   "outputs": [],
   "source": []
  }
 ],
 "metadata": {
  "kernelspec": {
   "display_name": "Python 3 (ipykernel)",
   "language": "python",
   "name": "python3"
  },
  "language_info": {
   "codemirror_mode": {
    "name": "ipython",
    "version": 3
   },
   "file_extension": ".py",
   "mimetype": "text/x-python",
   "name": "python",
   "nbconvert_exporter": "python",
   "pygments_lexer": "ipython3",
   "version": "3.11.5"
  }
 },
 "nbformat": 4,
 "nbformat_minor": 5
}
